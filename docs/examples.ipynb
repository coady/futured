{
 "cells": [
  {
   "cell_type": "markdown",
   "metadata": {},
   "source": [
    "# Examples\n",
    "Fetching urls concurrently, and processing the responses as completed, is used as an example.  This simple task is nonetheless suprisingly tedious, especially using `asyncio`."
   ]
  },
  {
   "cell_type": "code",
   "execution_count": null,
   "metadata": {},
   "outputs": [],
   "source": [
    "# only needed for notebook\n",
    "import conf\n",
    "import nest_asyncio\n",
    "nest_asyncio.apply()  \n",
    "\n",
    "urls = [f'http://httpbin.org/delay/{d}' for d in (0.2, 0.1, 0.0)]"
   ]
  },
  {
   "cell_type": "markdown",
   "metadata": {},
   "source": [
    "## Threaded"
   ]
  },
  {
   "cell_type": "code",
   "execution_count": null,
   "metadata": {},
   "outputs": [],
   "source": [
    "from concurrent import futures\n",
    "import requests\n",
    "\n",
    "def fetch_all(urls):\n",
    "    with requests.Session() as session, futures.ThreadPoolExecutor() as executor:\n",
    "        fs = [executor.submit(session.get, url) for url in urls]\n",
    "        for future in futures.as_completed(fs):\n",
    "            yield future.result()\n",
    "\n",
    "for resp in fetch_all(urls):\n",
    "    print(resp.url)"
   ]
  },
  {
   "cell_type": "markdown",
   "metadata": {},
   "source": [
    "`futured.threaded` abstracts away the boilerplate."
   ]
  },
  {
   "cell_type": "code",
   "execution_count": null,
   "metadata": {},
   "outputs": [],
   "source": [
    "from futured import threaded\n",
    "\n",
    "fetch = threaded(requests.Session().get)\n",
    "for resp in fetch.map(urls, as_completed=True):\n",
    "    print(resp.url)"
   ]
  },
  {
   "cell_type": "markdown",
   "metadata": {},
   "source": [
    "## Asynced"
   ]
  },
  {
   "cell_type": "code",
   "execution_count": null,
   "metadata": {},
   "outputs": [],
   "source": [
    "import asyncio\n",
    "import aiohttp\n",
    "\n",
    "async def fetch_all(urls):\n",
    "    async with aiohttp.ClientSession() as session:\n",
    "        for future in asyncio.as_completed(map(session.get, urls)):\n",
    "            yield await future\n",
    "\n",
    "for resp in fetch_all(urls):\n",
    "    print(resp.url)"
   ]
  },
  {
   "cell_type": "markdown",
   "metadata": {},
   "source": [
    "The problem is coroutines support the `yield` keyword, but only to create async iterators.  Even though `asyncio.as_completed` is itself a normal iterator, there is _no way_ to write this generator as intended.  Additionally there is no iterator equivalent of `loop.run_until_complete`, to mitigate the viral nature of the `async` keyword.\n",
    "\n",
    "So `futured.asynced` provides one."
   ]
  },
  {
   "cell_type": "code",
   "execution_count": null,
   "metadata": {},
   "outputs": [],
   "source": [
    "from futured import asynced\n",
    "\n",
    "for resp in asynced.run(fetch_all, urls):\n",
    "    print(resp.url)"
   ]
  },
  {
   "cell_type": "markdown",
   "metadata": {},
   "source": [
    "The alternative approach is to explicitly handle the loop in the implementation."
   ]
  },
  {
   "cell_type": "code",
   "execution_count": null,
   "metadata": {},
   "outputs": [],
   "source": [
    "def fetch_all(urls):\n",
    "    loop = asyncio.get_event_loop()\n",
    "    session = aiohttp.ClientSession()\n",
    "    for future in asyncio.as_completed(map(session.get, urls)):\n",
    "        yield loop.run_until_complete(future)\n",
    "\n",
    "for resp in fetch_all(urls):\n",
    "    print(resp.url)"
   ]
  },
  {
   "cell_type": "markdown",
   "metadata": {},
   "source": [
    "That works, although `aiohttp` is opinionated about only using `ClientSession` in an `async with` block.\n",
    "\n",
    "`asynced` provides the same abstraction as `threaded`."
   ]
  },
  {
   "cell_type": "code",
   "execution_count": null,
   "metadata": {},
   "outputs": [],
   "source": [
    "fetch = asynced(aiohttp.ClientSession().get)\n",
    "for resp in fetch.map(urls, as_completed=True):\n",
    "    print(resp.url)"
   ]
  }
 ],
 "metadata": {
  "kernelspec": {
   "display_name": "Python 3",
   "language": "python",
   "name": "python3"
  },
  "language_info": {
   "codemirror_mode": {
    "name": "ipython",
    "version": 3
   },
   "file_extension": ".py",
   "mimetype": "text/x-python",
   "name": "python",
   "nbconvert_exporter": "python",
   "pygments_lexer": "ipython3",
   "version": "3.7.4"
  }
 },
 "nbformat": 4,
 "nbformat_minor": 2
}
