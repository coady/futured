{
 "cells": [
  {
   "cell_type": "markdown",
   "source": [
    "# Examples\n",
    "Fetching urls concurrently, and processing the responses as completed, is used as an example.  This simple task is nonetheless suprisingly tedious, especially using `asyncio`.\n",
    "\n",
    "## Threaded"
   ],
   "metadata": {}
  },
  {
   "cell_type": "code",
   "execution_count": null,
   "source": [
    "import nest_asyncio\n",
    "nest_asyncio.apply()  # only needed for notebook"
   ],
   "outputs": [],
   "metadata": {
    "nbsphinx": "hidden"
   }
  },
  {
   "cell_type": "code",
   "execution_count": null,
   "source": [
    "from concurrent import futures\n",
    "import httpx\n",
    "\n",
    "urls = [f'http://httpbin.org/delay/{d}' for d in (0.2, 0.1, 0.0)]\n",
    "\n",
    "def fetch_all(urls):\n",
    "    with httpx.Client() as client, futures.ThreadPoolExecutor() as executor:\n",
    "        fs = [executor.submit(client.get, url) for url in urls]\n",
    "        for future in futures.as_completed(fs):\n",
    "            yield future.result()\n",
    "\n",
    "for resp in fetch_all(urls):\n",
    "    print(resp.url)"
   ],
   "outputs": [],
   "metadata": {}
  },
  {
   "cell_type": "markdown",
   "source": [
    "`futured.threaded` abstracts away the boilerplate."
   ],
   "metadata": {}
  },
  {
   "cell_type": "code",
   "execution_count": null,
   "source": [
    "from futured import threaded\n",
    "\n",
    "fetch = threaded(httpx.Client().get)\n",
    "for resp in fetch.map(urls, as_completed=True):\n",
    "    print(resp.url)"
   ],
   "outputs": [],
   "metadata": {}
  },
  {
   "cell_type": "markdown",
   "source": [
    "## Asynced"
   ],
   "metadata": {}
  },
  {
   "cell_type": "code",
   "execution_count": null,
   "source": [
    "import asyncio\n",
    "import httpx\n",
    "\n",
    "async def fetch_all(urls):\n",
    "    async with httpx.AsyncClient() as client:\n",
    "        for future in asyncio.as_completed(map(client.get, urls)):\n",
    "            yield await future\n",
    "\n",
    "for resp in fetch_all(urls):\n",
    "    print(resp.url)"
   ],
   "outputs": [],
   "metadata": {
    "tags": [
     "raises-exception"
    ]
   }
  },
  {
   "cell_type": "markdown",
   "source": [
    "The problem is coroutines support the `yield` keyword, but only to create async iterators.  Even though `asyncio.as_completed` is itself a normal iterator, there is _no way_ to write this generator as intended.  Additionally there is no iterator equivalent of `loop.run_until_complete`, to mitigate the viral nature of the `async` keyword.\n",
    "\n",
    "So `futured.asynced` provides one."
   ],
   "metadata": {}
  },
  {
   "cell_type": "code",
   "execution_count": null,
   "source": [
    "from futured import asynced\n",
    "\n",
    "for resp in asynced.run(fetch_all, urls):\n",
    "    print(resp.url)"
   ],
   "outputs": [],
   "metadata": {}
  },
  {
   "cell_type": "markdown",
   "source": [
    "The alternative approach is to explicitly handle the loop in the implementation."
   ],
   "metadata": {}
  },
  {
   "cell_type": "code",
   "execution_count": null,
   "source": [
    "def fetch_all(urls):\n",
    "    loop = asyncio.new_event_loop()\n",
    "    client = httpx.AsyncClient()\n",
    "    pending = [loop.create_task(client.get(url)) for url in urls]\n",
    "    while pending:\n",
    "        done, pending = loop.run_until_complete(asyncio.wait(pending))\n",
    "        for future in done:\n",
    "            yield future.result()\n",
    "    loop.run_until_complete(client.aclose())\n",
    "\n",
    "for resp in fetch_all(urls):\n",
    "    print(resp.url)"
   ],
   "outputs": [],
   "metadata": {}
  },
  {
   "cell_type": "markdown",
   "source": [
    "For this case, `asynced` provides the same abstraction as `threaded`."
   ],
   "metadata": {}
  },
  {
   "cell_type": "code",
   "execution_count": null,
   "source": [
    "fetch = asynced(httpx.AsyncClient().get)\n",
    "for resp in fetch.map(urls, as_completed=True):\n",
    "    print(resp.url)"
   ],
   "outputs": [],
   "metadata": {}
  }
 ],
 "metadata": {
  "language_info": {
   "codemirror_mode": {
    "name": "ipython",
    "version": 3
   },
   "file_extension": ".py",
   "mimetype": "text/x-python",
   "name": "python",
   "nbconvert_exporter": "python",
   "pygments_lexer": "ipython3",
   "version": "3.7.5"
  }
 },
 "nbformat": 4,
 "nbformat_minor": 2
}